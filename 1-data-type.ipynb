{
 "cells": [
  {
   "cell_type": "code",
   "execution_count": 10,
   "metadata": {},
   "outputs": [
    {
     "name": "stdout",
     "output_type": "stream",
     "text": [
      "[]\n",
      "[1, 2, 3]\n",
      "[0, 1, 4, 9, 16, 25, 36, 49, 64, 81]\n"
     ]
    }
   ],
   "source": [
    "# List\n",
    "list_1 = []\n",
    "\n",
    "list_2 = [1, 2, 3]\n",
    "\n",
    "list_3 = [i * i for i in range(10)]\n",
    "\n",
    "print(list_1)\n",
    "print(list_2)\n",
    "print(list_3)"
   ]
  },
  {
   "cell_type": "code",
   "execution_count": 3,
   "id": "56557ae4",
   "metadata": {},
   "outputs": [
    {
     "name": "stdout",
     "output_type": "stream",
     "text": [
      "[1, 2, 3, 4]\n"
     ]
    }
   ],
   "source": [
    "# Add element\n",
    "list_2.append(4)\n",
    "print(list_2)"
   ]
  },
  {
   "cell_type": "code",
   "execution_count": 6,
   "id": "b8bd6570",
   "metadata": {},
   "outputs": [
    {
     "name": "stdout",
     "output_type": "stream",
     "text": [
      "[0, 1, 4, 9, 16, 25, 36, 49, 64]\n"
     ]
    }
   ],
   "source": [
    "# Remove element\n",
    "list_3.remove(81)\n",
    "print(list_3)"
   ]
  },
  {
   "cell_type": "code",
   "execution_count": 8,
   "id": "8b9fe845",
   "metadata": {},
   "outputs": [],
   "source": [
    "# Change element\n",
    "list_2[0] = 100"
   ]
  },
  {
   "cell_type": "code",
   "execution_count": 9,
   "id": "ee536a96",
   "metadata": {},
   "outputs": [
    {
     "name": "stdout",
     "output_type": "stream",
     "text": [
      "NO 300 in this list.\n"
     ]
    }
   ],
   "source": [
    "# Check list element\n",
    "\n",
    "if 300 in list_3:\n",
    "    print(\"There is 300 in this list.\")\n",
    "else:\n",
    "    print(\"NO 300 in this list.\")"
   ]
  },
  {
   "cell_type": "code",
   "execution_count": 29,
   "id": "7e8dfaf3",
   "metadata": {},
   "outputs": [],
   "source": [
    "# Class method\n",
    "class Player:\n",
    "    LIMIT_LEVEL = 10\n",
    "    LIMIT_LIFE = 100\n",
    "    def __init__(self, name, level):\n",
    "        self.level = level\n",
    "        self.name = name\n",
    "    \n",
    "    def display(self):\n",
    "        print(f\"Name: {self.name}\")\n",
    "        print(f\"Level: {self.level}\")\n",
    "        \n",
    "    def level_up(self, number):\n",
    "        self.level += number\n",
    "        self.__check_level()\n",
    "        \n",
    "    def __check_level(self):\n",
    "        if self.level > Player.LIMIT_LEVEL:\n",
    "            self.level = Player.LIMIT_LEVEL\n",
    "    \n",
    "    @staticmethod\n",
    "    def print_limit_level():\n",
    "        print(Player.LIMIT_LEVEL) \n",
    "    \n",
    "    @classmethod\n",
    "    def print_limit_life(cls):\n",
    "        print(cls.LIMIT_LIFE)\n",
    "        "
   ]
  },
  {
   "cell_type": "code",
   "execution_count": 7,
   "id": "ef0d0920",
   "metadata": {},
   "outputs": [
    {
     "name": "stdout",
     "output_type": "stream",
     "text": [
      "Name: 魔法师\n",
      "Level: 10\n"
     ]
    }
   ],
   "source": [
    "p1 = Player(\"魔法师\", 1)\n",
    "p1.level_up(12)\n",
    "p1.display()"
   ]
  },
  {
   "cell_type": "code",
   "execution_count": 38,
   "id": "4594acbe",
   "metadata": {},
   "outputs": [],
   "source": [
    "class Fighter(Player):\n",
    "    def __init__(self, name, level, weapon):\n",
    "        Player.__init__(self, name, level)\n",
    "        self.weapon = weapon\n",
    "        \n",
    "    def display(self):\n",
    "        Player.display(self)\n",
    "        print(f\"武器: {self.weapon}\")\n",
    "    \n",
    "    @classmethod\n",
    "    def print_limit_life(cls):\n",
    "        Player.print_limit_life()\n",
    "        Fighter.LIMIT_LIFE = 200\n",
    "        print(f\"Now the LIMIT_LIFE is {Fighter.LIMIT_LIFE}\")\n",
    "    \n",
    "    @staticmethod\n",
    "    def static_print_limit_life():\n",
    "        Player.print_limit_life()\n",
    "        Fighter.LIMIT_LIFE = 300\n",
    "        print(f\"Now the LIMIT_LIFE is {Fighter.LIMIT_LIFE}\")\n",
    "        \n",
    "    def splash(self):\n",
    "        print(f\"战斗模式中: {self.weapon}\")\n",
    "        \n",
    "    \n",
    "        \n",
    "class Wizard(Player):\n",
    "    def __init__(self, name, level, magic):\n",
    "        Player.__init__(self, name, level)\n",
    "        self.magic = magic\n",
    "        \n",
    "    def display(self):\n",
    "        Player.display(self)\n",
    "        print(f\"魔法术: {self.magic}\") \n",
    "        \n",
    "    def splash(self):\n",
    "        print(f\"正在施法: {self.magic}\") \n",
    "    "
   ]
  },
  {
   "cell_type": "code",
   "execution_count": 15,
   "id": "28ce82a6",
   "metadata": {},
   "outputs": [
    {
     "name": "stdout",
     "output_type": "stream",
     "text": [
      "Name: 战士1\n",
      "Level: 1\n",
      "武器: 宝剑\n",
      "战斗模式中: 宝剑\n"
     ]
    }
   ],
   "source": [
    "f = Fighter(\"战士1\", 1, \"宝剑\")\n",
    "f.display()\n",
    "f.splash()"
   ]
  },
  {
   "cell_type": "code",
   "execution_count": 21,
   "id": "6b49289e",
   "metadata": {},
   "outputs": [
    {
     "name": "stdout",
     "output_type": "stream",
     "text": [
      "Name: 魔法师1\n",
      "Level: 1\n",
      "魔法术: 治疗药水🧪\n",
      "正在施法: 治疗药水🧪\n"
     ]
    }
   ],
   "source": [
    "w = Wizard(\"魔法师1\", 1, \"治疗药水🧪\")\n",
    "w.display()\n",
    "w.splash()"
   ]
  },
  {
   "cell_type": "code",
   "execution_count": 23,
   "id": "db21cd51",
   "metadata": {},
   "outputs": [
    {
     "name": "stdout",
     "output_type": "stream",
     "text": [
      "10\n"
     ]
    }
   ],
   "source": [
    "Player.print_limit_level()"
   ]
  },
  {
   "cell_type": "code",
   "execution_count": 27,
   "id": "37be1750",
   "metadata": {},
   "outputs": [
    {
     "name": "stdout",
     "output_type": "stream",
     "text": [
      "type object 'Fighter' has no attribute 'print_limit_level'\n"
     ]
    }
   ],
   "source": [
    "try:\n",
    "    Fighter.print_limit_level()\n",
    "except AttributeError as e:\n",
    "    print(e)"
   ]
  },
  {
   "cell_type": "code",
   "execution_count": 37,
   "id": "30f5acb7",
   "metadata": {},
   "outputs": [
    {
     "name": "stdout",
     "output_type": "stream",
     "text": [
      "100\n",
      "Now the LIMIT_LIFE is 200\n"
     ]
    }
   ],
   "source": [
    "Fighter.print_limit_life()"
   ]
  },
  {
   "cell_type": "code",
   "execution_count": 39,
   "id": "30854f60",
   "metadata": {},
   "outputs": [
    {
     "name": "stdout",
     "output_type": "stream",
     "text": [
      "100\n",
      "Now the LIMIT_LIFE is 300\n"
     ]
    }
   ],
   "source": [
    "Fighter.static_print_limit_life()"
   ]
  },
  {
   "cell_type": "code",
   "execution_count": null,
   "id": "b33593cd",
   "metadata": {},
   "outputs": [],
   "source": []
  }
 ],
 "metadata": {
  "kernelspec": {
   "display_name": "image-analysis-cv",
   "language": "python",
   "name": "python3"
  },
  "language_info": {
   "codemirror_mode": {
    "name": "ipython",
    "version": 3
   },
   "file_extension": ".py",
   "mimetype": "text/x-python",
   "name": "python",
   "nbconvert_exporter": "python",
   "pygments_lexer": "ipython3",
   "version": "3.6.13"
  }
 },
 "nbformat": 4,
 "nbformat_minor": 5
}
