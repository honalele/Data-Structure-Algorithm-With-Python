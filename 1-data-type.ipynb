{
 "cells": [
  {
   "cell_type": "code",
   "execution_count": 2,
   "metadata": {},
   "outputs": [
    {
     "name": "stdout",
     "output_type": "stream",
     "text": [
      "[]\n",
      "[1, 2, 3]\n",
      "[0, 1, 4, 9, 16, 25, 36, 49, 64, 81]\n"
     ]
    }
   ],
   "source": [
    "# List\n",
    "list_1 = []\n",
    "list_2 = [1, 2, 3]\n",
    "list_3 = [i * i for i in range(10)]\n",
    "print(list_1)\n",
    "print(list_2)\n",
    "print(list_3)"
   ]
  },
  {
   "cell_type": "code",
   "execution_count": 3,
   "id": "56557ae4",
   "metadata": {},
   "outputs": [
    {
     "name": "stdout",
     "output_type": "stream",
     "text": [
      "[1, 2, 3, 4]\n"
     ]
    }
   ],
   "source": [
    "# Add element\n",
    "list_2.append(4)\n",
    "print(list_2)"
   ]
  },
  {
   "cell_type": "code",
   "execution_count": 6,
   "id": "b8bd6570",
   "metadata": {},
   "outputs": [
    {
     "name": "stdout",
     "output_type": "stream",
     "text": [
      "[0, 1, 4, 9, 16, 25, 36, 49, 64]\n"
     ]
    }
   ],
   "source": [
    "# Remove element\n",
    "list_3.remove(81)\n",
    "print(list_3)"
   ]
  },
  {
   "cell_type": "code",
   "execution_count": 8,
   "id": "8b9fe845",
   "metadata": {},
   "outputs": [],
   "source": [
    "# Change element\n",
    "list_2[0] = 100"
   ]
  },
  {
   "cell_type": "code",
   "execution_count": 9,
   "id": "ee536a96",
   "metadata": {},
   "outputs": [
    {
     "name": "stdout",
     "output_type": "stream",
     "text": [
      "NO 300 in this list.\n"
     ]
    }
   ],
   "source": [
    "# Check list element\n",
    "\n",
    "if 300 in list_3:\n",
    "    print(\"There is 300 in this list.\")\n",
    "else:\n",
    "    print(\"NO 300 in this list.\")"
   ]
  },
  {
   "cell_type": "code",
   "execution_count": null,
   "id": "7e8dfaf3",
   "metadata": {},
   "outputs": [],
   "source": []
  }
 ],
 "metadata": {
  "kernelspec": {
   "display_name": "image-analysis-cv",
   "language": "python",
   "name": "python3"
  },
  "language_info": {
   "codemirror_mode": {
    "name": "ipython",
    "version": 3
   },
   "file_extension": ".py",
   "mimetype": "text/x-python",
   "name": "python",
   "nbconvert_exporter": "python",
   "pygments_lexer": "ipython3",
   "version": "3.6.13"
  }
 },
 "nbformat": 4,
 "nbformat_minor": 5
}
