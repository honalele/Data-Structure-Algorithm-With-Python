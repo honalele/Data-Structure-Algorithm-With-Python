{
 "cells": [
  {
   "attachments": {},
   "cell_type": "markdown",
   "id": "e6e61694",
   "metadata": {},
   "source": [
    "2-1 序列求和\n",
    "### Sequence Summation\n",
    "\n",
    "<!-- インライン表示 -->\n",
    "$S_n  = 1 + \\frac{1}{2}+ \\frac{1}{3}+ \\dots +\\frac{1}{n}$\n",
    "Apparantly, when $k \\in$ integer, if $n$ is big enough, then $S_n > k$.\n",
    "\n",
    "Now we have $k (1<=k>=15)$, then please get mininum $n$, that makes $Sn>k$. \n",
    " "
   ]
  },
  {
   "attachments": {},
   "cell_type": "markdown",
   "id": "a80c2bc1",
   "metadata": {},
   "source": [
    "2-2 水仙花数算法\n",
    "### Daffodil Number Algorithm\n",
    "\n",
    "Daffodil number means a number which includes three digits, and the summatin of the cubed of each digit is itself, which is to say $$abc = a^3 + b ^3 + c^3$$ Now get all the Daffodil number.\n"
   ]
  },
  {
   "cell_type": "markdown",
   "id": "26d3cfaa",
   "metadata": {},
   "source": []
  },
  {
   "cell_type": "markdown",
   "id": "c28df575",
   "metadata": {},
   "source": []
  },
  {
   "cell_type": "markdown",
   "id": "a3b21086",
   "metadata": {},
   "source": []
  },
  {
   "cell_type": "markdown",
   "id": "e80a1dbb",
   "metadata": {},
   "source": []
  }
 ],
 "metadata": {
  "kernelspec": {
   "display_name": "image-analysis-cv",
   "language": "python",
   "name": "python3"
  },
  "language_info": {
   "codemirror_mode": {
    "name": "ipython",
    "version": 3
   },
   "file_extension": ".py",
   "mimetype": "text/x-python",
   "name": "python",
   "nbconvert_exporter": "python",
   "pygments_lexer": "ipython3",
   "version": "3.6.13"
  }
 },
 "nbformat": 4,
 "nbformat_minor": 5
}
