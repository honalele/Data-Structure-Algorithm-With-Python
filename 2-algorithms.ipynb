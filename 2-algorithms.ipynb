{
 "cells": [
  {
   "attachments": {},
   "cell_type": "markdown",
   "id": "e6e61694",
   "metadata": {},
   "source": [
    "# 序列求和\n",
    "### sequence summation\n",
    "\n",
    "<!-- インライン表示 -->\n",
    "$S_n  = 1 + \\frac{1}{2}+ \\frac{1}{3}+ \\dots +\\frac{1}{n}$\n",
    "Apparantly, when $k \\in$ integer, if $n$ is big enough, then $S_n > k$.\n",
    "\n",
    "Now we have $k (1<=k>=15)$, then please get mininum $n$, that makes $Sn>k$. \n",
    " "
   ]
  },
  {
   "cell_type": "code",
   "execution_count": 1,
   "id": "72ceef5f",
   "metadata": {},
   "outputs": [],
   "source": [
    "def get_minimum_n(k):\n",
    "    S_n = 1\n",
    "    n = 0\n",
    "    for i in range(100000):    \n",
    "        S_n = S_n + 1/(i + 2)\n",
    "        print(f\"Given k is {k}, and n is {n}, and S_n is {S_n}\")\n",
    "        n  = i + 2\n",
    "        if S_n <= k:\n",
    "            print(f\"Current value of n is {i+2}.\")\n",
    "        else:\n",
    "            break\n",
    "    return n\n",
    "\n",
    "def main():\n",
    "    try:\n",
    "        k = int(input(\"Please input an integer k: \"))\n",
    "        n = get_minimum_n(k)\n",
    "        print(f\"Minimum value of n is {n}.\")\n",
    "    except TypeError as e:\n",
    "        print(f\"{k} is not integer, please input integer number, \"+ e)\n",
    "    \n",
    "if __name__ == \"__main__\":\n",
    "    main()"
   ]
  },
  {
   "cell_type": "code",
   "execution_count": 3,
   "id": "a80c2bc1",
   "metadata": {},
   "outputs": [],
   "source": []
  },
  {
   "cell_type": "markdown",
   "id": "c28df575",
   "metadata": {},
   "source": []
  },
  {
   "cell_type": "markdown",
   "id": "a3b21086",
   "metadata": {},
   "source": []
  },
  {
   "cell_type": "markdown",
   "id": "e80a1dbb",
   "metadata": {},
   "source": []
  }
 ],
 "metadata": {
  "kernelspec": {
   "display_name": "image-analysis-cv",
   "language": "python",
   "name": "python3"
  },
  "language_info": {
   "codemirror_mode": {
    "name": "ipython",
    "version": 3
   },
   "file_extension": ".py",
   "mimetype": "text/x-python",
   "name": "python",
   "nbconvert_exporter": "python",
   "pygments_lexer": "ipython3",
   "version": "3.6.13"
  }
 },
 "nbformat": 4,
 "nbformat_minor": 5
}
